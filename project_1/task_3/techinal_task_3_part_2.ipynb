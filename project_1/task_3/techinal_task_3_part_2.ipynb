{
 "cells": [
  {
   "cell_type": "code",
   "execution_count": 1,
   "id": "a51e475f",
   "metadata": {},
   "outputs": [],
   "source": [
    "import pandas as pd\n",
    "import numpy as np\n",
    "\n",
    "from sklearn.cluster import KMeans\n",
    "\n",
    "import warnings\n",
    "warnings.filterwarnings('ignore')"
   ]
  },
  {
   "cell_type": "code",
   "execution_count": 2,
   "id": "87b3a808",
   "metadata": {},
   "outputs": [
    {
     "data": {
      "text/html": [
       "<div>\n",
       "<style scoped>\n",
       "    .dataframe tbody tr th:only-of-type {\n",
       "        vertical-align: middle;\n",
       "    }\n",
       "\n",
       "    .dataframe tbody tr th {\n",
       "        vertical-align: top;\n",
       "    }\n",
       "\n",
       "    .dataframe thead th {\n",
       "        text-align: right;\n",
       "    }\n",
       "</style>\n",
       "<table border=\"1\" class=\"dataframe\">\n",
       "  <thead>\n",
       "    <tr style=\"text-align: right;\">\n",
       "      <th></th>\n",
       "      <th>company_name</th>\n",
       "      <th>company_short_description</th>\n",
       "      <th>company_description</th>\n",
       "    </tr>\n",
       "  </thead>\n",
       "  <tbody>\n",
       "    <tr>\n",
       "      <th>0</th>\n",
       "      <td>Codementor</td>\n",
       "      <td>Codementor is an online marketplace connecting...</td>\n",
       "      <td>Codementor provides live 1:1 help for software...</td>\n",
       "    </tr>\n",
       "    <tr>\n",
       "      <th>1</th>\n",
       "      <td>AgShift</td>\n",
       "      <td>AgShift is designing world's most advanced aut...</td>\n",
       "      <td>AgShift solution blends Deep Learning with Com...</td>\n",
       "    </tr>\n",
       "    <tr>\n",
       "      <th>2</th>\n",
       "      <td>Shipsi</td>\n",
       "      <td>Shipsi empowers any retailer with the ability ...</td>\n",
       "      <td>Shipsi empowers any retailer with the ability ...</td>\n",
       "    </tr>\n",
       "    <tr>\n",
       "      <th>3</th>\n",
       "      <td>OpenNews</td>\n",
       "      <td>OpenNews helps a global network of developers,...</td>\n",
       "      <td>We're helping a global network of developers, ...</td>\n",
       "    </tr>\n",
       "    <tr>\n",
       "      <th>4</th>\n",
       "      <td>Biobot Analytics</td>\n",
       "      <td>Biobot Analytics analyzes city sewage to estim...</td>\n",
       "      <td>Biobot Analytics analyzes sewage to estimate o...</td>\n",
       "    </tr>\n",
       "    <tr>\n",
       "      <th>...</th>\n",
       "      <td>...</td>\n",
       "      <td>...</td>\n",
       "      <td>...</td>\n",
       "    </tr>\n",
       "    <tr>\n",
       "      <th>19960</th>\n",
       "      <td>Powermat Technologies</td>\n",
       "      <td>Powermat Technologies develops wireless energy...</td>\n",
       "      <td>Powermat Technologies is a developer of wirele...</td>\n",
       "    </tr>\n",
       "    <tr>\n",
       "      <th>19961</th>\n",
       "      <td>Properly</td>\n",
       "      <td>The Ultimate Turnover Tool for Vacation Rental...</td>\n",
       "      <td>Properly is a visual checklist tool that lets ...</td>\n",
       "    </tr>\n",
       "    <tr>\n",
       "      <th>19962</th>\n",
       "      <td>Bid Ops</td>\n",
       "      <td>Bid Ops accelerates business partnerships betw...</td>\n",
       "      <td>NaN</td>\n",
       "    </tr>\n",
       "    <tr>\n",
       "      <th>19963</th>\n",
       "      <td>Tavolo</td>\n",
       "      <td>Tavolo is an online retailer and destination f...</td>\n",
       "      <td>Tavolo offers an online store that enables its...</td>\n",
       "    </tr>\n",
       "    <tr>\n",
       "      <th>19964</th>\n",
       "      <td>StackMob</td>\n",
       "      <td>StackMob is a mobile platform helping develope...</td>\n",
       "      <td>StackMob’s mobile platform helps developers cr...</td>\n",
       "    </tr>\n",
       "  </tbody>\n",
       "</table>\n",
       "<p>19965 rows × 3 columns</p>\n",
       "</div>"
      ],
      "text/plain": [
       "                company_name  \\\n",
       "0                 Codementor   \n",
       "1                    AgShift   \n",
       "2                     Shipsi   \n",
       "3                   OpenNews   \n",
       "4           Biobot Analytics   \n",
       "...                      ...   \n",
       "19960  Powermat Technologies   \n",
       "19961               Properly   \n",
       "19962                Bid Ops   \n",
       "19963                 Tavolo   \n",
       "19964               StackMob   \n",
       "\n",
       "                               company_short_description  \\\n",
       "0      Codementor is an online marketplace connecting...   \n",
       "1      AgShift is designing world's most advanced aut...   \n",
       "2      Shipsi empowers any retailer with the ability ...   \n",
       "3      OpenNews helps a global network of developers,...   \n",
       "4      Biobot Analytics analyzes city sewage to estim...   \n",
       "...                                                  ...   \n",
       "19960  Powermat Technologies develops wireless energy...   \n",
       "19961  The Ultimate Turnover Tool for Vacation Rental...   \n",
       "19962  Bid Ops accelerates business partnerships betw...   \n",
       "19963  Tavolo is an online retailer and destination f...   \n",
       "19964  StackMob is a mobile platform helping develope...   \n",
       "\n",
       "                                     company_description  \n",
       "0      Codementor provides live 1:1 help for software...  \n",
       "1      AgShift solution blends Deep Learning with Com...  \n",
       "2      Shipsi empowers any retailer with the ability ...  \n",
       "3      We're helping a global network of developers, ...  \n",
       "4      Biobot Analytics analyzes sewage to estimate o...  \n",
       "...                                                  ...  \n",
       "19960  Powermat Technologies is a developer of wirele...  \n",
       "19961  Properly is a visual checklist tool that lets ...  \n",
       "19962                                                NaN  \n",
       "19963  Tavolo offers an online store that enables its...  \n",
       "19964  StackMob’s mobile platform helps developers cr...  \n",
       "\n",
       "[19965 rows x 3 columns]"
      ]
     },
     "execution_count": 2,
     "metadata": {},
     "output_type": "execute_result"
    }
   ],
   "source": [
    "company = pd.read_csv('Company Descriptions.csv')\n",
    "company"
   ]
  },
  {
   "cell_type": "code",
   "execution_count": 3,
   "id": "37b619f7",
   "metadata": {},
   "outputs": [
    {
     "name": "stdout",
     "output_type": "stream",
     "text": [
      "<class 'pandas.core.frame.DataFrame'>\n",
      "RangeIndex: 19965 entries, 0 to 19964\n",
      "Data columns (total 3 columns):\n",
      " #   Column                     Non-Null Count  Dtype \n",
      "---  ------                     --------------  ----- \n",
      " 0   company_name               19965 non-null  object\n",
      " 1   company_short_description  19965 non-null  object\n",
      " 2   company_description        19237 non-null  object\n",
      "dtypes: object(3)\n",
      "memory usage: 468.1+ KB\n"
     ]
    }
   ],
   "source": [
    "company.info()"
   ]
  },
  {
   "cell_type": "code",
   "execution_count": 4,
   "id": "775be319",
   "metadata": {},
   "outputs": [],
   "source": [
    "# importing missing value in company_description with short decription\n",
    "company.company_description = company.company_description.fillna(company.company_short_description)"
   ]
  },
  {
   "cell_type": "code",
   "execution_count": 5,
   "id": "4e19ea0b",
   "metadata": {},
   "outputs": [
    {
     "data": {
      "text/plain": [
       "company_name                 0\n",
       "company_short_description    0\n",
       "company_description          0\n",
       "dtype: int64"
      ]
     },
     "execution_count": 5,
     "metadata": {},
     "output_type": "execute_result"
    }
   ],
   "source": [
    "company.isnull().sum()"
   ]
  },
  {
   "cell_type": "code",
   "execution_count": 6,
   "id": "eb769a92",
   "metadata": {},
   "outputs": [
    {
     "data": {
      "text/html": [
       "<div>\n",
       "<style scoped>\n",
       "    .dataframe tbody tr th:only-of-type {\n",
       "        vertical-align: middle;\n",
       "    }\n",
       "\n",
       "    .dataframe tbody tr th {\n",
       "        vertical-align: top;\n",
       "    }\n",
       "\n",
       "    .dataframe thead th {\n",
       "        text-align: right;\n",
       "    }\n",
       "</style>\n",
       "<table border=\"1\" class=\"dataframe\">\n",
       "  <thead>\n",
       "    <tr style=\"text-align: right;\">\n",
       "      <th></th>\n",
       "      <th>company_name</th>\n",
       "      <th>company_short_description</th>\n",
       "      <th>company_description</th>\n",
       "    </tr>\n",
       "  </thead>\n",
       "  <tbody>\n",
       "    <tr>\n",
       "      <th>0</th>\n",
       "      <td>Codementor</td>\n",
       "      <td>Codementor is an online marketplace connecting...</td>\n",
       "      <td>Codementor provides live 1:1 help for software...</td>\n",
       "    </tr>\n",
       "    <tr>\n",
       "      <th>1</th>\n",
       "      <td>AgShift</td>\n",
       "      <td>AgShift is designing world's most advanced aut...</td>\n",
       "      <td>AgShift solution blends Deep Learning with Com...</td>\n",
       "    </tr>\n",
       "    <tr>\n",
       "      <th>2</th>\n",
       "      <td>Shipsi</td>\n",
       "      <td>Shipsi empowers any retailer with the ability ...</td>\n",
       "      <td>Shipsi empowers any retailer with the ability ...</td>\n",
       "    </tr>\n",
       "    <tr>\n",
       "      <th>3</th>\n",
       "      <td>OpenNews</td>\n",
       "      <td>OpenNews helps a global network of developers,...</td>\n",
       "      <td>We're helping a global network of developers, ...</td>\n",
       "    </tr>\n",
       "    <tr>\n",
       "      <th>4</th>\n",
       "      <td>Biobot Analytics</td>\n",
       "      <td>Biobot Analytics analyzes city sewage to estim...</td>\n",
       "      <td>Biobot Analytics analyzes sewage to estimate o...</td>\n",
       "    </tr>\n",
       "    <tr>\n",
       "      <th>...</th>\n",
       "      <td>...</td>\n",
       "      <td>...</td>\n",
       "      <td>...</td>\n",
       "    </tr>\n",
       "    <tr>\n",
       "      <th>19960</th>\n",
       "      <td>Powermat Technologies</td>\n",
       "      <td>Powermat Technologies develops wireless energy...</td>\n",
       "      <td>Powermat Technologies is a developer of wirele...</td>\n",
       "    </tr>\n",
       "    <tr>\n",
       "      <th>19961</th>\n",
       "      <td>Properly</td>\n",
       "      <td>The Ultimate Turnover Tool for Vacation Rental...</td>\n",
       "      <td>Properly is a visual checklist tool that lets ...</td>\n",
       "    </tr>\n",
       "    <tr>\n",
       "      <th>19962</th>\n",
       "      <td>Bid Ops</td>\n",
       "      <td>Bid Ops accelerates business partnerships betw...</td>\n",
       "      <td>Bid Ops accelerates business partnerships betw...</td>\n",
       "    </tr>\n",
       "    <tr>\n",
       "      <th>19963</th>\n",
       "      <td>Tavolo</td>\n",
       "      <td>Tavolo is an online retailer and destination f...</td>\n",
       "      <td>Tavolo offers an online store that enables its...</td>\n",
       "    </tr>\n",
       "    <tr>\n",
       "      <th>19964</th>\n",
       "      <td>StackMob</td>\n",
       "      <td>StackMob is a mobile platform helping develope...</td>\n",
       "      <td>StackMob’s mobile platform helps developers cr...</td>\n",
       "    </tr>\n",
       "  </tbody>\n",
       "</table>\n",
       "<p>19965 rows × 3 columns</p>\n",
       "</div>"
      ],
      "text/plain": [
       "                company_name  \\\n",
       "0                 Codementor   \n",
       "1                    AgShift   \n",
       "2                     Shipsi   \n",
       "3                   OpenNews   \n",
       "4           Biobot Analytics   \n",
       "...                      ...   \n",
       "19960  Powermat Technologies   \n",
       "19961               Properly   \n",
       "19962                Bid Ops   \n",
       "19963                 Tavolo   \n",
       "19964               StackMob   \n",
       "\n",
       "                               company_short_description  \\\n",
       "0      Codementor is an online marketplace connecting...   \n",
       "1      AgShift is designing world's most advanced aut...   \n",
       "2      Shipsi empowers any retailer with the ability ...   \n",
       "3      OpenNews helps a global network of developers,...   \n",
       "4      Biobot Analytics analyzes city sewage to estim...   \n",
       "...                                                  ...   \n",
       "19960  Powermat Technologies develops wireless energy...   \n",
       "19961  The Ultimate Turnover Tool for Vacation Rental...   \n",
       "19962  Bid Ops accelerates business partnerships betw...   \n",
       "19963  Tavolo is an online retailer and destination f...   \n",
       "19964  StackMob is a mobile platform helping develope...   \n",
       "\n",
       "                                     company_description  \n",
       "0      Codementor provides live 1:1 help for software...  \n",
       "1      AgShift solution blends Deep Learning with Com...  \n",
       "2      Shipsi empowers any retailer with the ability ...  \n",
       "3      We're helping a global network of developers, ...  \n",
       "4      Biobot Analytics analyzes sewage to estimate o...  \n",
       "...                                                  ...  \n",
       "19960  Powermat Technologies is a developer of wirele...  \n",
       "19961  Properly is a visual checklist tool that lets ...  \n",
       "19962  Bid Ops accelerates business partnerships betw...  \n",
       "19963  Tavolo offers an online store that enables its...  \n",
       "19964  StackMob’s mobile platform helps developers cr...  \n",
       "\n",
       "[19965 rows x 3 columns]"
      ]
     },
     "execution_count": 6,
     "metadata": {},
     "output_type": "execute_result"
    }
   ],
   "source": [
    "company"
   ]
  },
  {
   "cell_type": "code",
   "execution_count": 7,
   "id": "44e1954e",
   "metadata": {},
   "outputs": [],
   "source": [
    "company = company.drop(['company_short_description'],axis=1)"
   ]
  },
  {
   "cell_type": "code",
   "execution_count": 8,
   "id": "3415b91a",
   "metadata": {},
   "outputs": [
    {
     "data": {
      "text/html": [
       "<div>\n",
       "<style scoped>\n",
       "    .dataframe tbody tr th:only-of-type {\n",
       "        vertical-align: middle;\n",
       "    }\n",
       "\n",
       "    .dataframe tbody tr th {\n",
       "        vertical-align: top;\n",
       "    }\n",
       "\n",
       "    .dataframe thead th {\n",
       "        text-align: right;\n",
       "    }\n",
       "</style>\n",
       "<table border=\"1\" class=\"dataframe\">\n",
       "  <thead>\n",
       "    <tr style=\"text-align: right;\">\n",
       "      <th></th>\n",
       "      <th>company_name</th>\n",
       "      <th>company_description</th>\n",
       "    </tr>\n",
       "  </thead>\n",
       "  <tbody>\n",
       "    <tr>\n",
       "      <th>0</th>\n",
       "      <td>Codementor</td>\n",
       "      <td>Codementor provides live 1:1 help for software...</td>\n",
       "    </tr>\n",
       "    <tr>\n",
       "      <th>1</th>\n",
       "      <td>AgShift</td>\n",
       "      <td>AgShift solution blends Deep Learning with Com...</td>\n",
       "    </tr>\n",
       "    <tr>\n",
       "      <th>2</th>\n",
       "      <td>Shipsi</td>\n",
       "      <td>Shipsi empowers any retailer with the ability ...</td>\n",
       "    </tr>\n",
       "    <tr>\n",
       "      <th>3</th>\n",
       "      <td>OpenNews</td>\n",
       "      <td>We're helping a global network of developers, ...</td>\n",
       "    </tr>\n",
       "    <tr>\n",
       "      <th>4</th>\n",
       "      <td>Biobot Analytics</td>\n",
       "      <td>Biobot Analytics analyzes sewage to estimate o...</td>\n",
       "    </tr>\n",
       "  </tbody>\n",
       "</table>\n",
       "</div>"
      ],
      "text/plain": [
       "       company_name                                company_description\n",
       "0        Codementor  Codementor provides live 1:1 help for software...\n",
       "1           AgShift  AgShift solution blends Deep Learning with Com...\n",
       "2            Shipsi  Shipsi empowers any retailer with the ability ...\n",
       "3          OpenNews  We're helping a global network of developers, ...\n",
       "4  Biobot Analytics  Biobot Analytics analyzes sewage to estimate o..."
      ]
     },
     "execution_count": 8,
     "metadata": {},
     "output_type": "execute_result"
    }
   ],
   "source": [
    "company.head()"
   ]
  },
  {
   "cell_type": "markdown",
   "id": "c56e470a",
   "metadata": {},
   "source": [
    "# Text preprocessing"
   ]
  },
  {
   "cell_type": "code",
   "execution_count": 9,
   "id": "bef9f848",
   "metadata": {},
   "outputs": [
    {
     "data": {
      "text/plain": [
       "'!\"#$%&\\'()*+,-./:;<=>?@[\\\\]^_`{|}~'"
      ]
     },
     "execution_count": 9,
     "metadata": {},
     "output_type": "execute_result"
    }
   ],
   "source": [
    "import string\n",
    "string.punctuation"
   ]
  },
  {
   "cell_type": "code",
   "execution_count": 10,
   "id": "a58c52f5",
   "metadata": {},
   "outputs": [],
   "source": [
    "def remove_punctuation(text):\n",
    "    text_nopunctuation=\"\".join([c for c in text if c not in string.punctuation])\n",
    "    return text_nopunctuation"
   ]
  },
  {
   "cell_type": "code",
   "execution_count": 11,
   "id": "af33877a",
   "metadata": {},
   "outputs": [],
   "source": [
    "company.company_description = company.company_description.apply(remove_punctuation)"
   ]
  },
  {
   "cell_type": "code",
   "execution_count": 12,
   "id": "2b4505e8",
   "metadata": {},
   "outputs": [],
   "source": [
    "def remove_digit(text):\n",
    "    result = ''.join([i for i in text if not i.isdigit()])\n",
    "    return result"
   ]
  },
  {
   "cell_type": "code",
   "execution_count": 13,
   "id": "9c600495",
   "metadata": {},
   "outputs": [],
   "source": [
    "company.company_description = company.company_description.apply(remove_digit)"
   ]
  },
  {
   "cell_type": "code",
   "execution_count": 14,
   "id": "e0c458e9",
   "metadata": {},
   "outputs": [],
   "source": [
    "#defining function for tokenization\n",
    "import re\n",
    "def tokenization(text):\n",
    "    tokens = re.split('W+',text)\n",
    "    return tokens\n",
    "#applying function to the column\n",
    "company.company_description = company.company_description.apply(lambda x: tokenization(x))"
   ]
  },
  {
   "cell_type": "code",
   "execution_count": 15,
   "id": "2ccb558c",
   "metadata": {},
   "outputs": [],
   "source": [
    "#importing nlp library\n",
    "import nltk\n",
    "#Stop words present in the library\n",
    "stopwords = nltk.corpus.stopwords.words('english')\n",
    "#defining the function to remove stopwords from tokenized text\n",
    "def remove_stopwords(text):\n",
    "    output= [i for i in text if i not in stopwords]\n",
    "    return output\n",
    "#applying the function\n",
    "company.company_description = company.company_description.apply(lambda x:remove_stopwords(x))"
   ]
  },
  {
   "cell_type": "code",
   "execution_count": 16,
   "id": "c926546d",
   "metadata": {},
   "outputs": [],
   "source": [
    "from nltk.stem import WordNetLemmatizer\n",
    "#defining the object for Lemmatization\n",
    "wordnet_lemmatizer = WordNetLemmatizer()\n",
    "#defining the function for lemmatization\n",
    "def lemmatizer(text):\n",
    "    lemm_text = [wordnet_lemmatizer.lemmatize(word) for word in text]\n",
    "    return lemm_text\n",
    "company.company_description = company.company_description.apply(lambda x:lemmatizer(x))"
   ]
  },
  {
   "cell_type": "code",
   "execution_count": 17,
   "id": "8ce01892",
   "metadata": {},
   "outputs": [],
   "source": [
    "company.company_description = company.company_description.apply(lambda x: ' '.join(x))"
   ]
  },
  {
   "cell_type": "code",
   "execution_count": 18,
   "id": "a0ef810c",
   "metadata": {},
   "outputs": [
    {
     "data": {
      "text/plain": [
       "'Codementor provides live  help for software development   e’re making it easy for developers to connect with experts via screen sharing video and chat  There are two ways to get help ondemand live  expert help and longterm dedicated mentorship \\n\\nBuild projects faster with ondemand help for topics including Ruby Python PHP JavaScript CSSHTML iOS Swift and more Codementor helps you overcome key challenges with timely advice and speeds up your development process'"
      ]
     },
     "execution_count": 18,
     "metadata": {},
     "output_type": "execute_result"
    }
   ],
   "source": [
    "company.company_description[0]"
   ]
  },
  {
   "cell_type": "code",
   "execution_count": 19,
   "id": "1d1e8870",
   "metadata": {},
   "outputs": [],
   "source": [
    "data = company.company_description"
   ]
  },
  {
   "cell_type": "code",
   "execution_count": 20,
   "id": "11d53280",
   "metadata": {},
   "outputs": [],
   "source": [
    "from sklearn.feature_extraction.text import TfidfVectorizer\n",
    "vectorizer = TfidfVectorizer(max_features=10000, stop_words=\"english\")\n",
    "data_vectorized = vectorizer.fit_transform(company.company_description).toarray()"
   ]
  },
  {
   "cell_type": "code",
   "execution_count": 21,
   "id": "11c6f514",
   "metadata": {},
   "outputs": [
    {
     "data": {
      "text/plain": [
       "array([[0., 0., 0., ..., 0., 0., 0.],\n",
       "       [0., 0., 0., ..., 0., 0., 0.],\n",
       "       [0., 0., 0., ..., 0., 0., 0.],\n",
       "       ...,\n",
       "       [0., 0., 0., ..., 0., 0., 0.],\n",
       "       [0., 0., 0., ..., 0., 0., 0.],\n",
       "       [0., 0., 0., ..., 0., 0., 0.]])"
      ]
     },
     "execution_count": 21,
     "metadata": {},
     "output_type": "execute_result"
    }
   ],
   "source": [
    "data_vectorized"
   ]
  },
  {
   "cell_type": "code",
   "execution_count": 22,
   "id": "82bb8a2c",
   "metadata": {},
   "outputs": [
    {
     "data": {
      "text/plain": [
       "(19965, 10000)"
      ]
     },
     "execution_count": 22,
     "metadata": {},
     "output_type": "execute_result"
    }
   ],
   "source": [
    "data_vectorized.shape"
   ]
  },
  {
   "cell_type": "code",
   "execution_count": null,
   "id": "9b94aab7",
   "metadata": {},
   "outputs": [],
   "source": [
    "wcss = []\n",
    "\n",
    "for i in range(1,51):\n",
    "    km = KMeans(n_clusters=i)\n",
    "    km.fit_predict(data_vectorized)\n",
    "    wcss.append(km.inertia_)"
   ]
  },
  {
   "cell_type": "code",
   "execution_count": null,
   "id": "05be586b",
   "metadata": {},
   "outputs": [],
   "source": [
    "import matplotlib.pyplot as plt\n",
    "plt.plot(range(1,51),wcss)"
   ]
  },
  {
   "cell_type": "code",
   "execution_count": null,
   "id": "a5e111fc",
   "metadata": {},
   "outputs": [],
   "source": [
    "# km = KMeans(n_clusters=27)\n",
    "# y_mean = km.fit_predict(vectors)"
   ]
  },
  {
   "cell_type": "code",
   "execution_count": null,
   "id": "43788d60",
   "metadata": {},
   "outputs": [],
   "source": [
    "# company['cluster_number'] = y_mean"
   ]
  },
  {
   "cell_type": "code",
   "execution_count": null,
   "id": "45a6a406",
   "metadata": {},
   "outputs": [],
   "source": [
    "# comapny"
   ]
  }
 ],
 "metadata": {
  "kernelspec": {
   "display_name": "Python 3 (ipykernel)",
   "language": "python",
   "name": "python3"
  },
  "language_info": {
   "codemirror_mode": {
    "name": "ipython",
    "version": 3
   },
   "file_extension": ".py",
   "mimetype": "text/x-python",
   "name": "python",
   "nbconvert_exporter": "python",
   "pygments_lexer": "ipython3",
   "version": "3.9.12"
  }
 },
 "nbformat": 4,
 "nbformat_minor": 5
}
